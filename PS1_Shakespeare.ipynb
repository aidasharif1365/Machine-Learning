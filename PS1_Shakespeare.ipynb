{
  "nbformat": 4,
  "nbformat_minor": 0,
  "metadata": {
    "colab": {
      "name": "Copy of PS1-Shakespeare.ipynb",
      "provenance": [],
      "collapsed_sections": [],
      "include_colab_link": true
    },
    "kernelspec": {
      "name": "python3",
      "display_name": "Python 3"
    }
  },
  "cells": [
    {
      "cell_type": "markdown",
      "metadata": {
        "id": "view-in-github",
        "colab_type": "text"
      },
      "source": [
        "<a href=\"https://colab.research.google.com/github/aidasharif1365/Machine-Learning/blob/main/PS1_Shakespeare.ipynb\" target=\"_parent\"><img src=\"https://colab.research.google.com/assets/colab-badge.svg\" alt=\"Open In Colab\"/></a>"
      ]
    },
    {
      "cell_type": "markdown",
      "metadata": {
        "id": "ghmXbcymaHxC"
      },
      "source": [
        "In this experiment, you will train models to distringuish examples of two different genres of Shakespeare's plays: comedies and tragedies. (We'll ignore the histories, sonnets, etc.) Since he died four hundred years ago, Shakespeare has not written any more plays—although scraps of various other works have come to light. We are not, therefore, interested in building models simply to help categorize an unbounded stream of future documents, as we might be in other applications of text classification; rather, we are interested in what a classifier might have to tell us about what we mean by the terms “comedy” and “tragedy”.\n",
        "\n",
        "You will start by copying and running your `createBasicFeatures` function from the experiment with movie reviews. Do the features the classifier focuses on tell you much about comedy and tragedy in general?\n",
        "\n",
        "You will then implement another featurization function `createInterestingFeatures`, which will focus on only those features you think are informative for distinguishing between comedy and tragedy. Accuracy on leave-one-out cross-validation may go up, but it more important to look at the features given the highest weight by the classifier. Interpretability in machine learning, of course, may be harder to define than accuracy—although accuracy at some tasks such as summarization is hard enoough."
      ]
    },
    {
      "cell_type": "code",
      "metadata": {
        "id": "AdVS67_HNRmW",
        "colab": {
          "base_uri": "https://localhost:8080/"
        },
        "outputId": "d9eb70d9-f0c1-4ae3-9b84-21ae37405d55"
      },
      "source": [
        "import re\n",
        "import nltk\n",
        "import json\n",
        "import spacy\n",
        "import string\n",
        "import requests\n",
        "import collections\n",
        "import numpy as np\n",
        "from sklearn.linear_model import LogisticRegression\n",
        "from sklearn.model_selection import cross_validate,LeaveOneOut,KFold\n",
        "from sklearn.feature_extraction.text import CountVectorizer,TfidfVectorizer,TfidfTransformer\n",
        "from spacy.lang.en import English\n",
        "from nltk.tokenize import sent_tokenize, word_tokenize\n",
        "from nltk.stem import PorterStemmer,WordNetLemmatizer\n",
        "from nltk.corpus import stopwords\n",
        "from collections import Counter\n",
        "\n",
        "nltk.download('stopwords')\n",
        "nltk.download('wordnet')\n",
        "nltk.download('punkt')"
      ],
      "execution_count": null,
      "outputs": [
        {
          "output_type": "stream",
          "text": [
            "[nltk_data] Downloading package stopwords to /root/nltk_data...\n",
            "[nltk_data]   Unzipping corpora/stopwords.zip.\n",
            "[nltk_data] Downloading package wordnet to /root/nltk_data...\n",
            "[nltk_data]   Unzipping corpora/wordnet.zip.\n",
            "[nltk_data] Downloading package punkt to /root/nltk_data...\n",
            "[nltk_data]   Unzipping tokenizers/punkt.zip.\n"
          ],
          "name": "stdout"
        },
        {
          "output_type": "execute_result",
          "data": {
            "text/plain": [
              "True"
            ]
          },
          "metadata": {
            "tags": []
          },
          "execution_count": 4
        }
      ]
    },
    {
      "cell_type": "code",
      "metadata": {
        "id": "PzjMY8fYQbB6"
      },
      "source": [
        "#read in the shakespeare corpus\n",
        "def readShakespeare():\n",
        "  raw = requests.get(\"https://raw.githubusercontent.com/mutherr/CS6120-PS1-data/master/shakespeare_plays.json\").text.strip()\n",
        "  corpus = [json.loads(line) for line in raw.split(\"\\n\")]\n",
        "\n",
        "  #remove histories from the data, as we're only working with tragedies and comedies\n",
        "  corpus = [entry for entry in corpus if entry[\"genre\"] != \"history\"]\n",
        "  return corpus"
      ],
      "execution_count": null,
      "outputs": []
    },
    {
      "cell_type": "code",
      "metadata": {
        "id": "eO4U7LUzi3on"
      },
      "source": [
        "def stemSentence(sentence):\n",
        "    porter = PorterStemmer()\n",
        "    token_words=word_tokenize(sentence)\n",
        "    stem_sentence=[]\n",
        "    for word in token_words:\n",
        "        stem_sentence.append(porter.stem(word))\n",
        "        stem_sentence.append(\" \")\n",
        "    return \"\".join(stem_sentence)"
      ],
      "execution_count": null,
      "outputs": []
    },
    {
      "cell_type": "code",
      "metadata": {
        "id": "n7tl8RxIyRec"
      },
      "source": [
        "def lemmaSentence(sentence):\n",
        "  wordnet_lemmatizer = WordNetLemmatizer()\n",
        "  token_words=word_tokenize(sentence)\n",
        "  lemma_sentence=[]\n",
        "  for word in token_words:\n",
        "      lemma_sentence.append(wordnet_lemmatizer.lemmatize(word))\n",
        "      lemma_sentence.append(\" \")\n",
        "  return \"\".join(lemma_sentence)"
      ],
      "execution_count": null,
      "outputs": []
    },
    {
      "cell_type": "code",
      "metadata": {
        "id": "s7dajWAZsImK"
      },
      "source": [
        "def remove_stopwords(sentence,stopwords_dict):\n",
        "  punctuations = '''!()-[]{};:'\"\\,<>./?@#$%^&*_~'''\n",
        "  #punctuations=''\n",
        "  no_punct = \"\"\n",
        "  token_words=word_tokenize(sentence)\n",
        "  no_stop=' '.join([word for word in token_words if word not in stopwords_dict])\n",
        "\n",
        "  for char in no_stop:\n",
        "    if char not in punctuations:\n",
        "        no_punct = no_punct + char\n",
        "  return no_punct"
      ],
      "execution_count": null,
      "outputs": []
    },
    {
      "cell_type": "markdown",
      "metadata": {
        "id": "v0r3oL3TdHIU"
      },
      "source": [
        "This is where you will implement two functions to featurize the data:"
      ]
    },
    {
      "cell_type": "code",
      "metadata": {
        "id": "039fPQcF7OkN"
      },
      "source": [
        "#NB: The current contents are for testing only\n",
        "#This function should return: \n",
        "#  -a sparse numpy matrix of document features\n",
        "#  -a list of the correct genre for each document\n",
        "#  -a list of the vocabulary used by the features, such that the ith term of the\n",
        "#    list is the word whose counts appear in the ith column of the matrix. \n",
        "\n",
        "# This function should create a feature representation using all tokens that\n",
        "# contain an alphabetic character.\n",
        "def createBasicFeatures(corpus):\n",
        "  texts=[]\n",
        "  vocab=[]\n",
        "  classes=[]\n",
        "\n",
        "  for i in range(len(corpus)):\n",
        "    texts.append(corpus[i][\"text\"])\n",
        "    classes.append(corpus[i][\"genre\"])\n",
        "    \n",
        "  #using countvectorizer to count words in documents\n",
        "  one_hot_vectorizer = CountVectorizer()\n",
        "  one_hot_matrix = one_hot_vectorizer.fit_transform(texts)\n",
        "  vocab_dict = (one_hot_vectorizer.vocabulary_)\n",
        "\n",
        "  for k in vocab_dict:\n",
        "    vocab.append(k)\n",
        "\n",
        "  return one_hot_matrix,classes,vocab"
      ],
      "execution_count": null,
      "outputs": []
    },
    {
      "cell_type": "code",
      "metadata": {
        "colab": {
          "base_uri": "https://localhost:8080/"
        },
        "id": "Nwv8un0TjmRg",
        "outputId": "9855fdfa-4697-4a5c-a930-7ebf9004486e"
      },
      "source": [
        "corpus = readShakespeare()\n",
        "X,y,vocab = createBasicFeatures(corpus)\n",
        "runEvaluation(X, y, vocab)"
      ],
      "execution_count": null,
      "outputs": [
        {
          "output_type": "stream",
          "text": [
            "----------L1 Norm-----------\n",
            "The model's average accuracy is 0.769231\n",
            "The most informative terms for pos are: ['pounds', 'gums', 'minimus', 'elevated', 'rogero', 'mountebanks', 'rests', 'immoment', 'unspoke', 'wrist', 'couplement', 'guerra', 'fortuna', 'whereuntil', 'parfect', 'arinado', 'pursents', 'vara', 'career', 'jesting']\n",
            "The most informative terms for neg are: ['beaks', 'cautelous', 'lading', 'brood', 'bemete', 'stubble', 'corse', 'vox', 'deserves', 'glowing', 'ber', 'simile', 'arinado', 'couplement', 'guerra', 'whereuntil', 'pompion', 'parfect', 'pursents', 'vara']\n",
            "----------L2 Norm-----------\n",
            "The model's average accuracy is 0.730769\n",
            "The most informative terms for pos are: ['rogero', 'gums', 'immoment', 'pounds', 'braving', 'rests', 'mountebanks', 'elevated', 'minimus', 'new', 'disarm', 'accompanied', 'goosequills', 'repeals', 'partially', 'despiseth', 'clad', 'hears', 'alexander', 'wrist']\n",
            "The most informative terms for neg are: ['stubble', 'brood', 'cautelous', 'beaks', 'stonecutter', 'vox', 'glowing', 'ber', 'corse', 'deserves', 'lading', 'avenged', 'ivory', 'maidenhood', 'bemete', 'crowns', 'wid', 'simile', 'insinuateth', 'reapers']\n"
          ],
          "name": "stdout"
        }
      ]
    },
    {
      "cell_type": "code",
      "metadata": {
        "id": "mM9dJSE2_OVt"
      },
      "source": [
        "#checkinng the most used words in pos and neg classes to make the stopword list\n",
        "pos_dict=collections.defaultdict(lambda:0)\n",
        "neg_dict=collections.defaultdict(lambda:0)\n",
        "\n",
        "for i in range(len(corpus)):\n",
        "  sentence=(corpus[i][\"text\"])\n",
        "  token_words=word_tokenize(sentence)\n",
        "  if corpus[i][\"genre\"]=='comedy':\n",
        "    for word in token_words:\n",
        "      pos_dict[word]=pos_dict[word]+1\n",
        "  elif corpus[i][\"genre\"]=='tragedy': \n",
        "    for word in token_words:\n",
        "      neg_dict[word]=neg_dict[word]+1\n",
        "        \n",
        "      \n",
        "pos_dict={k:v for k,v in sorted(pos_dict.items(), key=lambda item:item[1],reverse=True)}\n",
        "neg_dict={k:v for k,v in sorted(neg_dict.items(), key=lambda item:item[1],reverse=True)}\n"
      ],
      "execution_count": null,
      "outputs": []
    },
    {
      "cell_type": "code",
      "metadata": {
        "colab": {
          "base_uri": "https://localhost:8080/",
          "height": 655
        },
        "id": "oUyNHyf5_2Zp",
        "outputId": "86263a09-a194-4a28-cc71-82b6b6f1fce2"
      },
      "source": [
        "import matplotlib.pyplot as plt\n",
        "fig1 = plt.figure()\n",
        "fig2 = plt.figure()\n",
        "ax1 = fig1.add_axes([0,0,1,1])\n",
        "ax2 = fig2.add_axes([0,0,1,1])\n",
        "freqPos = []\n",
        "wordsPos = []\n",
        "freqNeg = []\n",
        "wordsNeg = []\n",
        "\n",
        "limit=23\n",
        "for k in neg_dict:\n",
        "  if limit>0:\n",
        "    wordsNeg.append(k)\n",
        "    freqNeg.append(neg_dict[k])\n",
        "  limit-=1\n",
        "\n",
        "limit=23\n",
        "for k in pos_dict:\n",
        "  if limit>0:\n",
        "    wordsPos.append(k)\n",
        "    freqPos.append(pos_dict[k])\n",
        "  limit-=1\n",
        "\n",
        "ax2.bar(wordsNeg,freqNeg)\n",
        "ax1.bar(wordsPos,freqPos)\n",
        "plt.show()"
      ],
      "execution_count": null,
      "outputs": [
        {
          "output_type": "display_data",
          "data": {
            "image/png": "[encoded data removed]",
            "text/plain": [
              "<Figure size 432x288 with 1 Axes>"
            ]
          },
          "metadata": {
            "tags": [],
            "needs_background": "light"
          }
        },
        {
          "output_type": "display_data",
          "data": {
            "image/png": "[encoded data removed]",
            "text/plain": [
              "<Figure size 432x288 with 1 Axes>"
            ]
          },
          "metadata": {
            "tags": [],
            "needs_background": "light"
          }
        }
      ]
    },
    {
      "cell_type": "code",
      "metadata": {
        "id": "bH8pcqudM9i5"
      },
      "source": [
        "words=['the', 'and','i','of','my','is','a','he','his','for','d','with']\n",
        "stopwords_dict=dict.fromkeys(words,1)"
      ],
      "execution_count": null,
      "outputs": []
    },
    {
      "cell_type": "code",
      "metadata": {
        "id": "bgNVhn8KjAe7"
      },
      "source": [
        "# This function can add other features you want that help classification\n",
        "# accuracy, such as bigrams, word prefixes and suffixes, etc.\n",
        "#it stems, lemmatizes, removes stopwords, sets thresholds of min and max number\n",
        "#of words in Countervectorizer, uses ngrams\n",
        "#each feature changer could be turned on or off\n",
        "def createInterestingFeatures(corpus,stopword,stem,lemma,ngram,mindf,maxdf):\n",
        "  raw=[]\n",
        "  vocab=[]\n",
        "  classes=[]\n",
        "\n",
        "  #based on the feature changer options this loops implements different parts\n",
        "  for i in range(len(corpus)):\n",
        "    sentence=(corpus[i][\"text\"])\n",
        "    if stopword:\n",
        "      sentence=remove_stopwords(sentence,stopwords_dict)\n",
        "    if stem:\n",
        "      sentence=stemSentence(sentence)\n",
        "    if lemma: \n",
        "      sentence=lemmaSentence(sentence)\n",
        "    raw.append(sentence)\n",
        "    classes.append(corpus[i][\"genre\"])\n",
        "\n",
        "  #setting ngrams, min_df and max_df in Countervectorizer\n",
        "  vectorizer = CountVectorizer(ngram_range=ngram,min_df=mindf,max_df=maxdf) \n",
        "  #fitting the vectorizer\n",
        "  ngram_matrix = vectorizer.fit_transform(raw)\n",
        "  vocab_dict = (vectorizer.vocabulary_)\n",
        "\n",
        "  for k in vocab_dict:\n",
        "    vocab.append(k)\n",
        "\n",
        "  return ngram_matrix,classes,vocab\n"
      ],
      "execution_count": null,
      "outputs": []
    },
    {
      "cell_type": "markdown",
      "metadata": {
        "id": "6GAcz03W6zIA"
      },
      "source": [
        "Best result:"
      ]
    },
    {
      "cell_type": "code",
      "metadata": {
        "colab": {
          "base_uri": "https://localhost:8080/"
        },
        "id": "OGqXxkfL6xgn",
        "outputId": "64ab4943-f362-4113-bba6-fe5ecf5355a5"
      },
      "source": [
        "words=['the', 'and','i','of','my','is','a','he','his','for','d','with']\n",
        "stopwords_dict=dict.fromkeys(words,1)\n",
        "X,y,vocab = createInterestingFeatures(corpus,stopword=False,stem=False,lemma=False,ngram=(0,3),mindf=3,maxdf=2200)\n",
        "runEvaluation(X, y, vocab)"
      ],
      "execution_count": null,
      "outputs": [
        {
          "output_type": "stream",
          "text": [
            "----------L1 Norm-----------\n",
            "The model's average accuracy is 0.884615\n",
            "The most informative terms for pos are: ['think for', 'between this', 'me hear', 'do love my', 'not here', 'needful', 'with us to', 'his mind', 'exit duke', 'you do remember', 'the heart to', 'and through the', 'you my good', 'all and leave', 'you have little', 'them to you', 'you think you', 'are at the', 'you have you', 'you where he']\n",
            "The most informative terms for neg are: ['pompey pompey', 'were such', 'me with patience', 'will by', '', 'on the way', 'an please you', 'when all the', 'which ne er', 'you have little', 'you do remember', 'the heart to', 'you my good', 'of all and', 'all and leave', 'them to you', 'you think you', 'are at the', 'you have you', 'you where he']\n",
            "----------L2 Norm-----------\n",
            "The model's average accuracy is 0.730769\n",
            "The most informative terms for pos are: ['think for', 'me hear', 'needful', 'do love my', 'with us to', 'between this', 'exit duke', 'not here', 'behold my', 'his mind', 'lady she is', 'no maiden', 'shall not', 'than he is', 'not by the', 'for ladies', 'that is', 'will endure', 'here lie', 'destin']\n",
            "The most informative terms for neg are: ['pompey pompey', 'were such', 'it shall not', 'brought to', 'tent and', 'pay your', 'what haste', 'will by', 'shall desire', 'youth and', 'the third', 'custom', 'to sleep', 'did need', 'thee like', 'them and the', 'would change', 'almost with', 'of him that', 'animal']\n"
          ],
          "name": "stdout"
        }
      ]
    },
    {
      "cell_type": "code",
      "metadata": {
        "colab": {
          "base_uri": "https://localhost:8080/"
        },
        "id": "Vv9qhfl1JJsM",
        "outputId": "ee094985-1b35-4b1e-d67c-12d8991ea704"
      },
      "source": [
        "X,y,vocab = createInterestingFeatures(corpus,stopword=False,stem=True,lemma=True,ngram=(0,3),mindf=3,maxdf=2200)\n",
        "runEvaluation(X, y, vocab)"
      ],
      "execution_count": null,
      "outputs": [
        {
          "output_type": "stream",
          "text": [
            "----------L1 Norm-----------\n",
            "The model's average accuracy is 0.846154\n",
            "The most informative terms for pos are: ['horn in', 'befor thee', 'wa to', 'he had no', 'fear thi', 'time good', 'is now the', 'should pay', 'fool fool', 'they say there', 'thousand of these', 'beseech you what', 'to break the', 'them on the', 'am glad on', 'true that you', 'to sin in', 'thou shalt see', 'me onc more', 'your compani to']\n",
            "The most informative terms for neg are: ['with much', 'were such', 'hath not yet', 'thi state', '', 'with bloodi', 'keep you in', 'they say they', 'stand not in', 'they say there', 'thousand of these', 'love than', 'beseech you what', 'of the citi', 'to break the', 'am glad on', 'true that you', 'to sin in', 'thou shalt see', 'me onc more']\n",
            "----------L2 Norm-----------\n",
            "The model's average accuracy is 0.692308\n",
            "The most informative terms for pos are: ['horn in', 'wa to', 'time good', 'he had no', 'befor thee', 'is now the', 'fool fool', 'fear thi', 'fan and', 'should pay', 'thou dost and', 'iv scene', 'and not have', 'come my', 'you love your', 'bring in', 'chang their', 'thi fool', 'more honour', 'you still']\n",
            "The most informative terms for neg are: ['with much', 'were such', 'rememb me', 'myself for', 'govern by', 'pack of', 'farewel till', 'thi state', 'give over', 'the beam', 'of feast', 'hard by', 'out of my', 'yield your', 'in scorn', 'th hand', 'me up in', 'that fled', 'way let', 'tell him thi']\n"
          ],
          "name": "stdout"
        }
      ]
    },
    {
      "cell_type": "code",
      "metadata": {
        "colab": {
          "base_uri": "https://localhost:8080/"
        },
        "id": "nV5MpJri7WAN",
        "outputId": "afd04ec1-44eb-4cb5-d3d2-9fef717d3853"
      },
      "source": [
        "X,y,vocab = createInterestingFeatures(corpus,stopword=True,stem=True,lemma=True,ngram=(1,3),mindf=2,maxdf=2000)\n",
        "runEvaluation(X, y, vocab)"
      ],
      "execution_count": null,
      "outputs": [
        {
          "output_type": "stream",
          "text": [
            "----------L1 Norm-----------\n",
            "The model's average accuracy is 0.807692\n",
            "The most informative terms for pos are: ['lord can', 'yet some', 'her knee', 'guess at', 'wors for me', 'thousand death would', 'craft', 'sweep', 'do our', 'womanish', 'menac', 'climat', 'prodigi', 'knotti', 'ghastli', 'stoni', 'unfirm', 'howev', 'tomorrow', 'shriek']\n",
            "The most informative terms for neg are: ['for lord', 'll sauc', 'rome antoni', 'in king', 'but we are', 'had but one', 'for most part', 'like hi', 'to fli', 'to market', 'knotti', 'ghastli', 'unfirm', 'retent', 'prodigi', 'howev', 'climat', 'menac', 'womanish', 'stoni']\n",
            "----------L2 Norm-----------\n",
            "The model's average accuracy is 0.730769\n",
            "The most informative terms for pos are: ['wors for me', 'do our', 'her knee', 'lord can', 'craft', 'guess at', 'yet some', 'sweep', 'further into', 'thousand death would', 'like poison', 'gentleman to', 'princ that', 'thi stori', 'arraign', 'though he', 'late have', 'second gentleman ti', 'scar', 'duti which']\n",
            "The most informative terms for neg are: ['ll sauc', 'for lord', 'but we are', 'rome antoni', 'for most part', 'friend let', 'good friar', 'in king', 'to market', 'anoth door', 'sorri now', 'to fli', 'heard say', 'had but one', 'both part', 'hath banish', 'it possibl', 'but their', 'disarm', 'wife first']\n"
          ],
          "name": "stdout"
        }
      ]
    },
    {
      "cell_type": "code",
      "metadata": {
        "colab": {
          "base_uri": "https://localhost:8080/"
        },
        "id": "juWHunp12PJD",
        "outputId": "c78e0489-b80c-4f8f-d710-b92a81071f18"
      },
      "source": [
        "X,y,vocab = createInterestingFeatures(corpus,stopword=True,stem=True,lemma=True,ngram=(1,3),mindf=3,maxdf=2200)\n",
        "runEvaluation(X, y, vocab)"
      ],
      "execution_count": null,
      "outputs": [
        {
          "output_type": "stream",
          "text": [
            "----------L1 Norm-----------\n",
            "The model's average accuracy is 0.884615\n",
            "The most informative terms for pos are: ['whom thou', 'to be command', 'speech will', 'sovereignti', 'myself will', 'you swear', 'cur in', 'lord exeunt', 'here therefor', 'suit that', 'them while', 'thi we', 'in either', 'all', 'all hail', 'peac thou', 'such name', 'dogg with', 'either side', 'honour no']\n",
            "The most informative terms for neg are: ['face but', 'true he', 'if he love', 'love day', 'almost come', 'no marvel', 'hand who', 'have sat', 'thu if', 'therebi to', 'honour no', 'all', 'thi we', 'in either', 'either side', 'all hail', 'peac thou', 'such name', 'suit that', 'them while']\n",
            "----------L2 Norm-----------\n",
            "The model's average accuracy is 0.730769\n",
            "The most informative terms for pos are: ['myself will', 'whom thou', 'here therefor', 'sovereignti', 'to be command', 'you swear', 'speech will', 'lord exeunt', 'cur in', 'run by', 'make an', 'give way to', 'have kept', 'yet though', 'boy hath', 'find thi', 'impress', 'yet kind', 'part forest', 'come love']\n",
            "The most informative terms for neg are: ['face but', 'love day', 'true he', 'if he love', 'much more', 'no marvel', 'your sword', 'tell who', 'now what news', 'hand who', 'prove thi', 'thou are', 'what thou hast', 'not stay behind', 'not show', 'almost come', 'more such', 'do much', 'hour in', 'would grow']\n"
          ],
          "name": "stdout"
        }
      ]
    },
    {
      "cell_type": "code",
      "metadata": {
        "colab": {
          "base_uri": "https://localhost:8080/"
        },
        "id": "96v8iJt93UxJ",
        "outputId": "754c3016-b724-4c7b-af51-d15f7bfaa641"
      },
      "source": [
        "X,y,vocab = createInterestingFeatures(corpus,stopword=True,stem=True,lemma=True,ngram=(1,3),mindf=3,maxdf=2200)\n",
        "runEvaluation(X, y, vocab)"
      ],
      "execution_count": null,
      "outputs": [
        {
          "output_type": "stream",
          "text": [
            "----------L1 Norm-----------\n",
            "The model's average accuracy is 0.846154\n",
            "The most informative terms for pos are: ['whom thou', 'speech will', 'to be command', 'sovereignti', 'myself will', 'cur in', 'you swear', 'lord exeunt', 'here therefor', 'suit that', 'them while', 'thi we', 'in either', 'all', 'all hail', 'peac thou', 'such name', 'dogg with', 'either side', 'honour no']\n",
            "The most informative terms for neg are: ['face but', 'true he', 'if he love', 'love day', 'almost come', 'no marvel', 'hand who', 'have sat', 'thu if', 'therebi to', 'honour no', 'all', 'thi we', 'in either', 'either side', 'all hail', 'peac thou', 'such name', 'suit that', 'them while']\n",
            "----------L2 Norm-----------\n",
            "The model's average accuracy is 0.730769\n",
            "The most informative terms for pos are: ['myself will', 'whom thou', 'here therefor', 'sovereignti', 'to be command', 'you swear', 'speech will', 'lord exeunt', 'cur in', 'run by', 'make an', 'give way to', 'have kept', 'yet though', 'boy hath', 'find thi', 'impress', 'yet kind', 'part forest', 'come love']\n",
            "The most informative terms for neg are: ['face but', 'love day', 'true he', 'if he love', 'much more', 'no marvel', 'your sword', 'tell who', 'now what news', 'hand who', 'prove thi', 'thou are', 'what thou hast', 'not stay behind', 'not show', 'almost come', 'more such', 'do much', 'hour in', 'would grow']\n"
          ],
          "name": "stdout"
        }
      ]
    },
    {
      "cell_type": "code",
      "metadata": {
        "colab": {
          "base_uri": "https://localhost:8080/"
        },
        "id": "kz3i2UOkJem9",
        "outputId": "e82b2113-d965-475a-e2ed-3828efcbbd53"
      },
      "source": [
        "X,y,vocab = createInterestingFeatures(corpus,stopword=False,stem=False,lemma=True,ngram=(0,3),mindf=3,maxdf=2200)\n",
        "runEvaluation(X, y, vocab)"
      ],
      "execution_count": null,
      "outputs": [
        {
          "output_type": "stream",
          "text": [
            "----------L1 Norm-----------\n",
            "The model's average accuracy is 0.807692\n",
            "The most informative terms for pos are: ['sleep come', 'you wot', 'space for', 'ruin of the', 'grace is', 'patch', 'shall be so', 'not get', 'out my', 'he turn', 'life did', 'is thus', 'your loyal', 'servant or', 'endure your', 'bear from', 'am struck', 'with sorrow', 'this city', 'the injury']\n",
            "The most informative terms for neg are: ['have mind', 'boy son', 'there an end', 'you set', '', 'all and leave', 'lord thou', 'done deed', 'not upon', 'put up', 'know in', 'which this', 'man life', 'noble master', 'life did', 'your loyal', 'loyal servant', 'servant or', 'endure your', 'bear from']\n",
            "----------L2 Norm-----------\n",
            "The model's average accuracy is 0.692308\n",
            "The most informative terms for pos are: ['sleep come', 'space for', 'patch', 'ruin of the', 'shall be so', 'you wot', 'out my', 'grace is', 'say or', 'not get', 'up say', 'act iv', 'do assure', 'can not think', 'love be not', 'father so', 'stay here', 'would not wish', 'the bare', 'the head of']\n",
            "The most informative terms for neg are: ['have mind', 'boy son', 'father if', 'of wine', 'll bear', 'blow them', 'his case', 'you set', 'they lie', 'her mistress', 'yet am', 'with all my', 'first sight', 'which first', 'freedom of', 'son is', 'voice and', 'to myself but', 'go see your', 'mean you sir']\n"
          ],
          "name": "stdout"
        }
      ]
    },
    {
      "cell_type": "code",
      "metadata": {
        "colab": {
          "base_uri": "https://localhost:8080/"
        },
        "id": "1DFnD1lZ3hhy",
        "outputId": "37b1bfad-98d4-40c1-a41b-181c1d96feb6"
      },
      "source": [
        "X,y,vocab = createInterestingFeatures(corpus,stopword=False,stem=False,lemma=False,ngram=(1,2),mindf=3,maxdf=2200)\n",
        "runEvaluation(X, y, vocab)"
      ],
      "execution_count": null,
      "outputs": [
        {
          "output_type": "stream",
          "text": [
            "----------L1 Norm-----------\n",
            "The model's average accuracy is 0.846154\n",
            "The most informative terms for pos are: ['leagues off', 'trouble the', 'cannot call', 'you back', 'you came', 'offence', 'scanted', 'they meet', 'you was', 'and heard', 'other will', 'am half', 'than fool', 'for truth', 'things should', 'do appear', 'should stand', 'why in', 'which first', 'crave the']\n",
            "The most informative terms for neg are: ['he on', 'but teach', 'be fortunate', 'are and', 'should stand', 'do appear', 'things should', 'for truth', 'than fool', 'other will', 'why in', 'and heard', 'many things', 'some more', 'go without', 'am half', 'which first', 'well', 'him joy', 'voices and']\n",
            "----------L2 Norm-----------\n",
            "The model's average accuracy is 0.692308\n",
            "The most informative terms for pos are: ['leagues off', 'cannot call', 'offence', 'you came', 'they meet', 'trouble the', 'than am', 'you back', 'am able', 'scanted', 'borne to', 'do nothing', 'towards him', 'and went', 'to thee', 'when thy', 'like dog', 'them it', 'bounds', 'imposition']\n",
            "The most informative terms for neg are: ['he on', 'but teach', 'the porter', 'are full', 'servant you', 'name it', 'recall', 'are and', 'pine and', 'griefs and', 'be fortunate', 'twelvemonth', 'are wise', 'thee go', 'stays', 'my sides', 'with messenger', 'nature so', 'dotes', 'for heaven']\n"
          ],
          "name": "stdout"
        }
      ]
    },
    {
      "cell_type": "code",
      "metadata": {
        "colab": {
          "base_uri": "https://localhost:8080/"
        },
        "id": "GjjIsY513wQC",
        "outputId": "4b902a19-1240-47a3-8e6e-65b57f5865dc"
      },
      "source": [
        "X,y,vocab = createInterestingFeatures(corpus,stopword=False,stem=False,lemma=False,ngram=(0,3),mindf=3,maxdf=2200)\n",
        "runEvaluation(X, y, vocab)"
      ],
      "execution_count": null,
      "outputs": [
        {
          "output_type": "stream",
          "text": [
            "----------L1 Norm-----------\n",
            "The model's average accuracy is 0.846154\n",
            "The most informative terms for pos are: ['me hear', 'think for', 'between this', 'do love my', 'needful', 'not here', 'with us to', 'his mind', 'behold my', 'exit duke', 'you do remember', 'the heart to', 'and through the', 'you my good', 'them to you', 'all and leave', 'you think you', 'are at the', 'you have you', 'you where he']\n",
            "The most informative terms for neg are: ['pompey pompey', 'were such', 'brought to', 'me with patience', 'will by', '', 'what haste', 'all and leave', 'you my good', 'and through the', 'the heart to', 'may as well', 'you do remember', 'you have little', 'them to you', 'which ne er', 'you think you', 'when all the', 'an please you', 'on the way']\n",
            "----------L2 Norm-----------\n",
            "The model's average accuracy is 0.730769\n",
            "The most informative terms for pos are: ['think for', 'me hear', 'needful', 'do love my', 'with us to', 'between this', 'exit duke', 'not here', 'behold my', 'his mind', 'lady she is', 'no maiden', 'shall not', 'than he is', 'not by the', 'for ladies', 'that is', 'will endure', 'here lie', 'destin']\n",
            "The most informative terms for neg are: ['pompey pompey', 'were such', 'it shall not', 'brought to', 'tent and', 'pay your', 'what haste', 'will by', 'shall desire', 'youth and', 'the third', 'custom', 'to sleep', 'did need', 'thee like', 'them and the', 'would change', 'almost with', 'of him that', 'animal']\n"
          ],
          "name": "stdout"
        }
      ]
    },
    {
      "cell_type": "code",
      "metadata": {
        "colab": {
          "base_uri": "https://localhost:8080/"
        },
        "id": "B6UHsOMbBEXW",
        "outputId": "416da6a3-5d44-4004-9ac8-b0cd9c3c518b"
      },
      "source": [
        "words=['the', 'and','i','of','my','is','a','he','his','for','d','with']\n",
        "stopwords_dict=dict.fromkeys(words,1)\n",
        "X,y,vocab = createInterestingFeatures(corpus,stopword=False,stem=False,lemma=False,ngram=(0,3),mindf=3,maxdf=2400)\n",
        "runEvaluation(X, y, vocab)"
      ],
      "execution_count": null,
      "outputs": [
        {
          "output_type": "stream",
          "text": [
            "----------L1 Norm-----------\n",
            "The model's average accuracy is 0.884615\n",
            "The most informative terms for pos are: ['think for', 'between this', 'me hear', 'do love my', 'not here', 'needful', 'with us to', 'his mind', 'exit duke', 'you do remember', 'the heart to', 'and through the', 'you my good', 'all and leave', 'you have little', 'them to you', 'you think you', 'are at the', 'you have you', 'you where he']\n",
            "The most informative terms for neg are: ['pompey pompey', 'were such', 'me with patience', 'will by', '', 'on the way', 'an please you', 'when all the', 'which ne er', 'you have little', 'you do remember', 'the heart to', 'you my good', 'of all and', 'all and leave', 'them to you', 'you think you', 'are at the', 'you have you', 'you where he']\n",
            "----------L2 Norm-----------\n",
            "The model's average accuracy is 0.730769\n",
            "The most informative terms for pos are: ['think for', 'me hear', 'needful', 'do love my', 'with us to', 'between this', 'exit duke', 'not here', 'behold my', 'his mind', 'lady she is', 'no maiden', 'shall not', 'than he is', 'not by the', 'for ladies', 'that is', 'will endure', 'here lie', 'destin']\n",
            "The most informative terms for neg are: ['pompey pompey', 'were such', 'it shall not', 'brought to', 'tent and', 'pay your', 'what haste', 'will by', 'shall desire', 'youth and', 'the third', 'custom', 'to sleep', 'did need', 'thee like', 'them and the', 'would change', 'almost with', 'of him that', 'animal']\n"
          ],
          "name": "stdout"
        }
      ]
    },
    {
      "cell_type": "code",
      "metadata": {
        "colab": {
          "base_uri": "https://localhost:8080/"
        },
        "id": "KovmPnxWDMie",
        "outputId": "b7f07593-64ea-4870-c92e-ff60d62af86e"
      },
      "source": [
        "words=['the', 'and','i','of','my','is','a','he','his','for','d','with']\n",
        "stopwords_dict=dict.fromkeys(words,1)\n",
        "X,y,vocab = createInterestingFeatures(corpus,stopword=True,stem=True,lemma=True,ngram=(1,3),mindf=3,maxdf=2000)\n",
        "runEvaluation(X, y, vocab)"
      ],
      "execution_count": null,
      "outputs": [
        {
          "output_type": "stream",
          "text": [
            "----------L1 Norm-----------\n",
            "The model's average accuracy is 0.846154\n",
            "The most informative terms for pos are: ['when some', 'if they can', 'none but', 'attend enter', 'encount', 'soldier no', 'what danger', 'shall our', 'merci in', 'no hope', 'an engin', 'now than', 'differ between', 'respect not', 'time can', 'have got', 'short time', 'thi long', 'in charact', 'all']\n",
            "The most informative terms for neg are: ['which seem', 'will shame', 'help in', 'me gentleman', 'send your', 'ere they', 'in charact', 'an engin', 'shall our', 'differ between', 'thi long', 'time can', 'short time', 'no hope', 'possibl you', 'respect not', 'merci in', 'now than', 'all', 'we on']\n",
            "----------L2 Norm-----------\n",
            "The model's average accuracy is 0.730769\n",
            "The most informative terms for pos are: ['if they can', 'what danger', 'none but', 'attend enter', 'encount', 'soldier no', 'when some', 'am abl', 'night am', 'anoth way', 'shall see', 'it stain', 'have lov', 'left it', 'balanc', 'would that', 'thi glove', 'we are', 'at heart', 'think that had']\n",
            "The most informative terms for neg are: ['which seem', 'will shame', 'help in', 'in mean time', 'sanctuari', 'send your', 'call in', 'writer', 'pitch', 'would we had', 'ere they', 'not cast', 'lord till', 'wherev', 'not poison', 'queen go', 'happi to', 'you took', 'me gentleman', 'matter you']\n"
          ],
          "name": "stdout"
        }
      ]
    },
    {
      "cell_type": "code",
      "metadata": {
        "id": "KfTBqBltXe7Y"
      },
      "source": [
        "#given a numpy matrix representation of the features for the training set, the \n",
        "# vector of true classes for each example, and the vocabulary as described \n",
        "# above, this computes the accuracy of the model using leave one out cross \n",
        "# validation and reports the most indicative features for each class\n",
        "def evaluateModel(X,y,vocab,penalty=\"l1\"):\n",
        "  #create and fit the model\n",
        "  model = LogisticRegression(penalty=penalty,solver=\"liblinear\")\n",
        "  results = cross_validate(model,X,y,cv=LeaveOneOut())\n",
        "  \n",
        "  #determine the average accuracy\n",
        "  scores = results[\"test_score\"]\n",
        "  avg_score = sum(scores)/len(scores)\n",
        "  \n",
        "  #determine the most informative features\n",
        "  # this requires us to fit the model to everything, because we need a\n",
        "  # single model to draw coefficients from, rather than 26\n",
        "  model.fit(X,y)\n",
        "  neg_class_prob_sorted = model.coef_[0, :].argsort()\n",
        "  pos_class_prob_sorted = (-model.coef_[0, :]).argsort()\n",
        "\n",
        "  termsToTake = 20\n",
        "  pos_indicators = [vocab[i] for i in neg_class_prob_sorted[:termsToTake]]\n",
        "  neg_indicators = [vocab[i] for i in pos_class_prob_sorted[:termsToTake]]\n",
        "\n",
        "  return avg_score,pos_indicators,neg_indicators\n",
        "\n",
        "def runEvaluation(X,y,vocab):\n",
        "  print(\"----------L1 Norm-----------\")\n",
        "  avg_score,pos_indicators,neg_indicators = evaluateModel(X,y,vocab,\"l1\")\n",
        "  print(\"The model's average accuracy is %f\"%avg_score)\n",
        "  print(\"The most informative terms for pos are: %s\"%pos_indicators)\n",
        "  print(\"The most informative terms for neg are: %s\"%neg_indicators)\n",
        "  #this call will fit a model with L2 normalization\n",
        "  print(\"----------L2 Norm-----------\")\n",
        "  avg_score,pos_indicators,neg_indicators = evaluateModel(X,y,vocab,\"l2\")\n",
        "  print(\"The model's average accuracy is %f\"%avg_score)\n",
        "  print(\"The most informative terms for pos are: %s\"%pos_indicators)\n",
        "  print(\"The most informative terms for neg are: %s\"%neg_indicators)\n",
        "  "
      ],
      "execution_count": null,
      "outputs": []
    }
  ]
}